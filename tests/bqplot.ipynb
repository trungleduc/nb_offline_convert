{
 "cells": [
  {
   "cell_type": "markdown",
   "metadata": {},
   "source": [
    "# So easy, *voilà*!\n",
    "\n",
    "In this example notebook, we demonstrate how Voilà can render custom Jupyter widgets such as [bqplot](https://github.com/bloomberg/bqplot). "
   ]
  },
  {
   "cell_type": "code",
   "execution_count": 12,
   "metadata": {},
   "outputs": [],
   "source": [
    "import warnings\n",
    "warnings.filterwarnings('ignore')"
   ]
  },
  {
   "cell_type": "code",
   "execution_count": 13,
   "metadata": {},
   "outputs": [
    {
     "data": {
      "application/vnd.jupyter.widget-view+json": {
       "model_id": "cf1695314d56495ab97d653f6b149c1f",
       "version_major": 2,
       "version_minor": 0
      },
      "text/plain": [
       "VBox(children=(Figure(axes=[Axis(scale=LinearScale()), Axis(orientation='vertical', scale=LinearScale())], fig…"
      ]
     },
     "metadata": {},
     "output_type": "display_data"
    }
   ],
   "source": [
    "import numpy as np\n",
    "from bqplot import pyplot as plt\n",
    "\n",
    "plt.figure(1, title='Line Chart')\n",
    "np.random.seed(0)\n",
    "n = 200\n",
    "x = np.linspace(0.0, 10.0, n)\n",
    "y = np.cumsum(np.random.randn(n))\n",
    "plt.plot(x, y)\n",
    "plt.show()"
   ]
  },
  {
   "cell_type": "code",
   "execution_count": null,
   "metadata": {},
   "outputs": [],
   "source": []
  }
 ],
 "metadata": {
  "kernelspec": {
   "display_name": "Python 3 (ipykernel)",
   "language": "python",
   "name": "python3"
  },
  "language_info": {
   "codemirror_mode": {
    "name": "ipython",
    "version": 3
   },
   "file_extension": ".py",
   "mimetype": "text/x-python",
   "name": "python",
   "nbconvert_exporter": "python",
   "pygments_lexer": "ipython3",
   "version": "3.9.7"
  },
  "widgets": {
   "application/vnd.jupyter.widget-state+json": {
    "state": {
     "02e7d2d536e34c188accc720ba137e22": {
      "model_module": "@jupyter-widgets/base",
      "model_module_version": "1.2.0",
      "model_name": "LayoutModel",
      "state": {}
     },
     "079a285d0be54503a3ed417a305cc723": {
      "model_module": "bqplot",
      "model_module_version": "^0.5.32",
      "model_name": "FigureModel",
      "state": {
       "axes": [
        "IPY_MODEL_7a7d3411ba0849a498b7ff9ae723f8f9",
        "IPY_MODEL_a8519584f9a64d93ad78ce3b8b17df02"
       ],
       "layout": "IPY_MODEL_80618c39418742f885a7a502221592bd",
       "marks": [
        "IPY_MODEL_aa798f1f52604664af1689f0a4c5ead0"
       ],
       "scale_x": "IPY_MODEL_6ddbfc7f3ef1440fa1a194e16a965d1e",
       "scale_y": "IPY_MODEL_8dac7417e70949aaa8cb5a00f4d40ea2",
       "title": "Line Chart"
      }
     },
     "6ddbfc7f3ef1440fa1a194e16a965d1e": {
      "model_module": "bqplot",
      "model_module_version": "^0.5.32",
      "model_name": "LinearScaleModel",
      "state": {
       "allow_padding": false,
       "max": 1,
       "min": 0,
       "stabilized": false
      }
     },
     "742a978f8890480489ac32142a78993f": {
      "model_module": "bqplot",
      "model_module_version": "^0.5.32",
      "model_name": "LinearScaleModel",
      "state": {
       "stabilized": false
      }
     },
     "7a7d3411ba0849a498b7ff9ae723f8f9": {
      "model_module": "bqplot",
      "model_module_version": "^0.5.32",
      "model_name": "AxisModel",
      "state": {
       "scale": "IPY_MODEL_742a978f8890480489ac32142a78993f",
       "side": "bottom",
       "tick_values": null
      }
     },
     "80618c39418742f885a7a502221592bd": {
      "model_module": "@jupyter-widgets/base",
      "model_module_version": "1.2.0",
      "model_name": "LayoutModel",
      "state": {}
     },
     "859d2d51e6d9430fa8fc13b07a9a1df8": {
      "model_module": "@jupyter-widgets/base",
      "model_module_version": "1.2.0",
      "model_name": "LayoutModel",
      "state": {}
     },
     "8dac7417e70949aaa8cb5a00f4d40ea2": {
      "model_module": "bqplot",
      "model_module_version": "^0.5.32",
      "model_name": "LinearScaleModel",
      "state": {
       "allow_padding": false,
       "max": 1,
       "min": 0,
       "stabilized": false
      }
     },
     "a8519584f9a64d93ad78ce3b8b17df02": {
      "model_module": "bqplot",
      "model_module_version": "^0.5.32",
      "model_name": "AxisModel",
      "state": {
       "orientation": "vertical",
       "scale": "IPY_MODEL_f6e46f06d31342b4a23daa7c84e7f1cf",
       "side": "left",
       "tick_values": null
      }
     },
     "aa798f1f52604664af1689f0a4c5ead0": {
      "buffers": [
       {
        "data": "AAAAAAAAAACBhJ9ciLqpP4GEn1yIurk/YaN3ReZLwz+BhJ9ciLrJP9Gy4zmVFNA/YaN3ReZL0z/xkwtRN4PWP4GEn1yIutk/EXUzaNnx3D/RsuM5lRTgPxmrrb89sOE/YaN3ReZL4z+pm0HLjufkP/GTC1E3g+Y/OYzV1t8e6D+BhJ9ciLrpP8l8aeIwVus/EXUzaNnx7D9Zbf3tgY3uP9Gy4zmVFPA/9a7IfGni8D8Zq62/PbDxPz2nkgISfvI/YaN3ReZL8z+Fn1yIuhn0P6mbQcuO5/Q/zZcmDmO19T/xkwtRN4P2PxWQ8JMLUfc/OYzV1t8e+D9diLoZtOz4P4GEn1yIuvk/pYCEn1yI+j/JfGniMFb7P+14TiUFJPw/EXUzaNnx/D81cRirrb/9P1lt/e2Bjf4/fWniMFZb/z/RsuM5lRQAQOMwVlt/ewBA9a7IfGniAEAHLTueU0kBQBmrrb89sAFAKykg4ScXAkA9p5ICEn4CQE8lBST85AJAYaN3ReZLA0BzIepm0LIDQIWfXIi6GQRAlx3PqaSABECpm0HLjucEQLsZtOx4TgVAzZcmDmO1BUDfFZkvTRwGQPGTC1E3gwZAAxJ+ciHqBkAVkPCTC1EHQCcOY7X1twdAOYzV1t8eCEBLCkj4yYUIQF2Iuhm07AhAbwYtO55TCUCBhJ9ciLoJQJMCEn5yIQpApYCEn1yICkC3/vbARu8KQMl8aeIwVgtA2/rbAxu9C0DteE4lBSQMQP/2wEbvigxAEXUzaNnxDEAj86WJw1gNQDVxGKutvw1AR++KzJcmDkBZbf3tgY0OQGvrbw9s9A5AfWniMFZbD0CP51RSQMIPQNGy4zmVFBBA2vGcSgpIEEDjMFZbf3sQQOxvD2z0rhBA9a7IfGniEED+7YGN3hURQActO55TSRFAEGz0rsh8EUAZq62/PbARQCLqZtCy4xFAKykg4ScXEkA0aNnxnEoSQD2nkgISfhJARuZLE4exEkBPJQUk/OQSQFhkvjRxGBNAYaN3ReZLE0Bq4jBWW38TQHMh6mbQshNAfGCjd0XmE0CFn1yIuhkUQI7eFZkvTRRAlx3PqaSAFECgXIi6GbQUQKmbQcuO5xRAstr62wMbFUC7GbTseE4VQMRYbf3tgRVAzZcmDmO1FUDW1t8e2OgVQN8VmS9NHBZA6FRSQMJPFkDxkwtRN4MWQPrSxGGsthZAAxJ+ciHqFkAMUTeDlh0XQBWQ8JMLURdAHs+ppICEF0AnDmO19bcXQDBNHMZq6xdAOYzV1t8eGEBCy47nVFIYQEsKSPjJhRhAVEkBCT+5GEBdiLoZtOwYQGbHcyopIBlAbwYtO55TGUB4ReZLE4cZQIGEn1yIuhlAisNYbf3tGUCTAhJ+ciEaQJxBy47nVBpApYCEn1yIGkCuvz2w0bsaQLf+9sBG7xpAwD2w0bsiG0DJfGniMFYbQNK7IvOliRtA2/rbAxu9G0DkOZUUkPAbQO14TiUFJBxA9rcHNnpXHED/9sBG74ocQAg2eldkvhxAEXUzaNnxHEAatOx4TiUdQCPzpYnDWB1ALDJfmjiMHUA1cRirrb8dQD6w0bsi8x1AR++KzJcmHkBQLkTdDFoeQFlt/e2BjR5AYqy2/vbAHkBr628PbPQeQHQqKSDhJx9AfWniMFZbH0CGqJtBy44fQI/nVFJAwh9AmCYOY7X1H0DRsuM5lRQgQFVSQMJPLiBA2vGcSgpIIEBekfnSxGEgQOMwVlt/eyBAZ9Cy4zmVIEDsbw9s9K4gQHAPbPSuyCBA9a7IfGniIEB5TiUFJPwgQP7tgY3eFSFAgo3eFZkvIUAHLTueU0khQIvMlyYOYyFAEGz0rsh8IUCUC1E3g5YhQBmrrb89sCFAnUoKSPjJIUAi6mbQsuMhQKaJw1ht/SFAKykg4ScXIkCvyHxp4jAiQDRo2fGcSiJAuAc2eldkIkA9p5ICEn4iQMFG74rMlyJARuZLE4exIkDKhaibQcsiQE8lBST85CJA08RhrLb+IkBYZL40cRgjQNwDG70rMiNAYaN3ReZLI0DlQtTNoGUjQGriMFZbfyNA7oGN3hWZI0BzIepm0LIjQPfARu+KzCNAfGCjd0XmI0AAAAAAAAAkQA==",
        "encoding": "base64",
        "path": [
         "x",
         "value"
        ]
       },
       {
        "data": "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",
        "encoding": "base64",
        "path": [
         "y",
         "value"
        ]
       }
      ],
      "model_module": "bqplot",
      "model_module_version": "^0.5.32",
      "model_name": "LinesModel",
      "state": {
       "fill_colors": [],
       "labels": [
        "C1"
       ],
       "scales": {
        "x": "IPY_MODEL_742a978f8890480489ac32142a78993f",
        "y": "IPY_MODEL_f6e46f06d31342b4a23daa7c84e7f1cf"
       },
       "x": {
        "dtype": "float64",
        "shape": [
         200
        ],
        "type": null
       },
       "y": {
        "dtype": "float64",
        "shape": [
         200
        ],
        "type": null
       }
      }
     },
     "b14c0ef5bee34905aabd814e5cbaf970": {
      "model_module": "bqplot",
      "model_module_version": "^0.5.32",
      "model_name": "ToolbarModel",
      "state": {
       "figure": "IPY_MODEL_079a285d0be54503a3ed417a305cc723",
       "layout": "IPY_MODEL_02e7d2d536e34c188accc720ba137e22"
      }
     },
     "cf1695314d56495ab97d653f6b149c1f": {
      "model_module": "@jupyter-widgets/controls",
      "model_module_version": "1.5.0",
      "model_name": "VBoxModel",
      "state": {
       "children": [
        "IPY_MODEL_079a285d0be54503a3ed417a305cc723",
        "IPY_MODEL_b14c0ef5bee34905aabd814e5cbaf970"
       ],
       "layout": "IPY_MODEL_859d2d51e6d9430fa8fc13b07a9a1df8"
      }
     },
     "f6e46f06d31342b4a23daa7c84e7f1cf": {
      "model_module": "bqplot",
      "model_module_version": "^0.5.32",
      "model_name": "LinearScaleModel",
      "state": {
       "stabilized": false
      }
     }
    },
    "version_major": 2,
    "version_minor": 0
   }
  }
 },
 "nbformat": 4,
 "nbformat_minor": 4
}
